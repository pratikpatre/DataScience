{
 "cells": [
  {
   "cell_type": "code",
   "execution_count": 3,
   "metadata": {
    "collapsed": false
   },
   "outputs": [],
   "source": [
    "import pandas"
   ]
  },
  {
   "cell_type": "code",
   "execution_count": 4,
   "metadata": {
    "collapsed": false
   },
   "outputs": [],
   "source": [
    "Dataset = pandas.read_csv('/Users/rahulchandra/downloads/ClassData http___bit.ly_2kyfv1G - Sheet1-2.csv')"
   ]
  },
  {
   "cell_type": "code",
   "execution_count": 5,
   "metadata": {
    "collapsed": false
   },
   "outputs": [
    {
     "name": "stdout",
     "output_type": "stream",
     "text": [
      "    No   GPA  Years of work experience  Latest salary (per year)  \\\n",
      "0    1  3.50                       2.5                     45000   \n",
      "1    3  3.80                       1.0                     65000   \n",
      "2    4  3.80                       2.0                     85000   \n",
      "3    5  3.41                       1.5                     10000   \n",
      "4    6  3.33                       5.0                     70000   \n",
      "5    7  3.52                       2.5                     27000   \n",
      "6    8  3.50                       2.0                     40000   \n",
      "7    9  3.50                       5.0                     75000   \n",
      "8   10  3.60                       2.5                     65000   \n",
      "9   11  3.20                       4.0                     62000   \n",
      "10  12  3.50                       2.0                     60000   \n",
      "11  13  3.67                       1.8                     60000   \n",
      "12  14  3.50                       2.0                     60000   \n",
      "13  15  3.47                       2.5                     70000   \n",
      "14  16  3.06                       1.3                     40000   \n",
      "15  17  3.27                       2.0                     60000   \n",
      "16  18  3.53                       4.0                     50000   \n",
      "17  19  4.00                       4.0                     50000   \n",
      "18  20  3.40                       1.0                     30000   \n",
      "19  21  3.54                       1.0                     40000   \n",
      "20  22  3.50                       2.0                     75000   \n",
      "21  23  3.50                       4.0                     50000   \n",
      "22  24  3.40                       3.0                     50000   \n",
      "23  26  3.30                       4.0                     65000   \n",
      "24  27  3.90                       6.0                     90000   \n",
      "25  28  3.17                       1.0                     50000   \n",
      "26  29  3.48                       3.5                     60000   \n",
      "27  30  3.93                       4.0                     43000   \n",
      "28  31  3.43                       4.0                     60000   \n",
      "29  32  3.33                       5.0                      5000   \n",
      "30  33  3.60                       1.5                     60000   \n",
      "31  34  3.80                       3.0                     65000   \n",
      "32  35  3.50                       3.0                     65000   \n",
      "33  36  3.39                       2.0                     60000   \n",
      "\n",
      "    Highest GPA   Lowest GPA Coops/Internships (YN)  \\\n",
      "0           3.50        3.50                      N   \n",
      "1           3.60        3.00                      Y   \n",
      "2           4.00        3.60                      Y   \n",
      "3           3.41        3.33                      N   \n",
      "4           3.67        3.00                      Y   \n",
      "5           3.58        3.52                      N   \n",
      "6           3.70        3.30                      N   \n",
      "7           3.53        3.30                      Y   \n",
      "8           3.90        3.10                      Y   \n",
      "9           3.80        3.00                      N   \n",
      "10          3.50        3.50                      N   \n",
      "11          4.00        3.00                      N   \n",
      "12          3.70        3.30                      y   \n",
      "13          3.64        3.37                      Y   \n",
      "14          3.64        2.67                      Y   \n",
      "15          4.00        3.00                      Y   \n",
      "16          4.00        3.30                      N   \n",
      "17          4.00        4.00                      Y   \n",
      "18          3.60        3.10                      N   \n",
      "19          4.00        3.42                      Y   \n",
      "20          4.00        3.00                      Y   \n",
      "21          3.80        3.20                      Y   \n",
      "22          3.80        3.20                      Y   \n",
      "23          4.00        3.65                      Y   \n",
      "24          4.00        3.80                      Y   \n",
      "25          3.30        3.00                      N   \n",
      "26          4.00        3.33                      Y   \n",
      "27          4.00        3.28                      Y   \n",
      "28          3.50        3.30                      Y   \n",
      "29          3.66        3.00                      Y   \n",
      "30          3.70        3.40                      Y   \n",
      "31          3.80        3.50                      Y   \n",
      "32          4.00        3.60                      Y   \n",
      "33          3.80        3.20                      Y   \n",
      "\n",
      "    Number of contacts on Linkedin  Expected Salary after graduation  \n",
      "0                              250                             90000  \n",
      "1                              400                            100000  \n",
      "2                              500                             90000  \n",
      "3                              365                            100000  \n",
      "4                              400                            100000  \n",
      "5                              230                             85000  \n",
      "6                              250                             90000  \n",
      "7                              260                            100000  \n",
      "8                              250                            110000  \n",
      "9                              525                            105000  \n",
      "10                             400                             85000  \n",
      "11                             920                            140000  \n",
      "12                             300                             90000  \n",
      "13                             310                             95000  \n",
      "14                             550                            120000  \n",
      "15                             350                            100000  \n",
      "16                             600                             88000  \n",
      "17                             500                            130000  \n",
      "18                             500                             80000  \n",
      "19                             650                             95000  \n",
      "20                             515                             80000  \n",
      "21                             350                            110000  \n",
      "22                             301                             90000  \n",
      "23                             700                            100000  \n",
      "24                             809                            120000  \n",
      "25                             258                            100000  \n",
      "26                             350                            100000  \n",
      "27                             900                            100000  \n",
      "28                             220                            110000  \n",
      "29                             183                            100000  \n",
      "30                             340                            100000  \n",
      "31                             800                             80000  \n",
      "32                             400                             80000  \n",
      "33                             500                             90000  \n"
     ]
    }
   ],
   "source": [
    "print (Dataset)"
   ]
  },
  {
   "cell_type": "code",
   "execution_count": 6,
   "metadata": {
    "collapsed": false
   },
   "outputs": [
    {
     "ename": "SyntaxError",
     "evalue": "invalid syntax (<ipython-input-6-0363fc88c552>, line 1)",
     "output_type": "error",
     "traceback": [
      "\u001b[0;36m  File \u001b[0;32m\"<ipython-input-6-0363fc88c552>\"\u001b[0;36m, line \u001b[0;32m1\u001b[0m\n\u001b[0;31m    1) Min, Max, Median, Avg for GPA and YearofWorkExp\u001b[0m\n\u001b[0m     ^\u001b[0m\n\u001b[0;31mSyntaxError\u001b[0m\u001b[0;31m:\u001b[0m invalid syntax\n"
     ]
    }
   ],
   "source": [
    "1) Min, Max, Median, Avg for GPA and YearofWorkExp"
   ]
  },
  {
   "cell_type": "code",
   "execution_count": 7,
   "metadata": {
    "collapsed": false
   },
   "outputs": [
    {
     "data": {
      "text/plain": [
       "3.0600000000000001"
      ]
     },
     "execution_count": 7,
     "metadata": {},
     "output_type": "execute_result"
    }
   ],
   "source": [
    "Dataset.GPA.min()"
   ]
  },
  {
   "cell_type": "code",
   "execution_count": 8,
   "metadata": {
    "collapsed": false
   },
   "outputs": [
    {
     "data": {
      "text/plain": [
       "4.0"
      ]
     },
     "execution_count": 8,
     "metadata": {},
     "output_type": "execute_result"
    }
   ],
   "source": [
    "Dataset.GPA.max()"
   ]
  },
  {
   "cell_type": "code",
   "execution_count": 9,
   "metadata": {
    "collapsed": false
   },
   "outputs": [
    {
     "data": {
      "text/plain": [
       "3.5"
      ]
     },
     "execution_count": 9,
     "metadata": {},
     "output_type": "execute_result"
    }
   ],
   "source": [
    "Dataset.GPA.median()"
   ]
  },
  {
   "cell_type": "code",
   "execution_count": 10,
   "metadata": {
    "collapsed": false
   },
   "outputs": [
    {
     "data": {
      "text/plain": [
       "3.5097058823529426"
      ]
     },
     "execution_count": 10,
     "metadata": {},
     "output_type": "execute_result"
    }
   ],
   "source": [
    "Dataset.GPA.mean()"
   ]
  },
  {
   "cell_type": "code",
   "execution_count": 11,
   "metadata": {
    "collapsed": false
   },
   "outputs": [
    {
     "data": {
      "text/plain": [
       "1.0"
      ]
     },
     "execution_count": 11,
     "metadata": {},
     "output_type": "execute_result"
    }
   ],
   "source": [
    "Dataset[\"Years of work experience\"].min()"
   ]
  },
  {
   "cell_type": "code",
   "execution_count": 12,
   "metadata": {
    "collapsed": false
   },
   "outputs": [
    {
     "data": {
      "text/plain": [
       "6.0"
      ]
     },
     "execution_count": 12,
     "metadata": {},
     "output_type": "execute_result"
    }
   ],
   "source": [
    "Dataset[\"Years of work experience\"].max()"
   ]
  },
  {
   "cell_type": "code",
   "execution_count": 13,
   "metadata": {
    "collapsed": false
   },
   "outputs": [
    {
     "data": {
      "text/plain": [
       "2.5"
      ]
     },
     "execution_count": 13,
     "metadata": {},
     "output_type": "execute_result"
    }
   ],
   "source": [
    "Dataset[\"Years of work experience\"].median()"
   ]
  },
  {
   "cell_type": "code",
   "execution_count": 14,
   "metadata": {
    "collapsed": false
   },
   "outputs": [
    {
     "data": {
      "text/plain": [
       "2.8117647058823527"
      ]
     },
     "execution_count": 14,
     "metadata": {},
     "output_type": "execute_result"
    }
   ],
   "source": [
    "Dataset[\"Years of work experience\"].mean()"
   ]
  },
  {
   "cell_type": "code",
   "execution_count": 15,
   "metadata": {
    "collapsed": false
   },
   "outputs": [
    {
     "ename": "SyntaxError",
     "evalue": "invalid syntax (<ipython-input-15-a915f7057cae>, line 1)",
     "output_type": "error",
     "traceback": [
      "\u001b[0;36m  File \u001b[0;32m\"<ipython-input-15-a915f7057cae>\"\u001b[0;36m, line \u001b[0;32m1\u001b[0m\n\u001b[0;31m    2) Find the mode of the Salary\u001b[0m\n\u001b[0m     ^\u001b[0m\n\u001b[0;31mSyntaxError\u001b[0m\u001b[0;31m:\u001b[0m invalid syntax\n"
     ]
    }
   ],
   "source": [
    "2) Find the mode of the Salary"
   ]
  },
  {
   "cell_type": "code",
   "execution_count": 16,
   "metadata": {
    "collapsed": false
   },
   "outputs": [
    {
     "data": {
      "text/plain": [
       "0    60000\n",
       "dtype: int64"
      ]
     },
     "execution_count": 16,
     "metadata": {},
     "output_type": "execute_result"
    }
   ],
   "source": [
    "Dataset[\"Latest salary (per year)\"].mode()"
   ]
  },
  {
   "cell_type": "code",
   "execution_count": 17,
   "metadata": {
    "collapsed": false
   },
   "outputs": [
    {
     "data": {
      "text/plain": [
       "0    100000\n",
       "dtype: int64"
      ]
     },
     "execution_count": 17,
     "metadata": {},
     "output_type": "execute_result"
    }
   ],
   "source": [
    "Dataset[\"Expected Salary after graduation\"].mode()"
   ]
  },
  {
   "cell_type": "code",
   "execution_count": 18,
   "metadata": {
    "collapsed": false
   },
   "outputs": [
    {
     "ename": "SyntaxError",
     "evalue": "invalid syntax (<ipython-input-18-5cad11b05da0>, line 1)",
     "output_type": "error",
     "traceback": [
      "\u001b[0;36m  File \u001b[0;32m\"<ipython-input-18-5cad11b05da0>\"\u001b[0;36m, line \u001b[0;32m1\u001b[0m\n\u001b[0;31m    3) % of students having Co/op and not having Co/op\u001b[0m\n\u001b[0m     ^\u001b[0m\n\u001b[0;31mSyntaxError\u001b[0m\u001b[0;31m:\u001b[0m invalid syntax\n"
     ]
    }
   ],
   "source": [
    "3) % of students having Co/op and not having Co/op"
   ]
  },
  {
   "cell_type": "code",
   "execution_count": 26,
   "metadata": {
    "collapsed": false
   },
   "outputs": [],
   "source": [
    "TotalStudent = (Dataset[\"Coops/Internships (YN)\"]).count()"
   ]
  },
  {
   "cell_type": "code",
   "execution_count": 27,
   "metadata": {
    "collapsed": false
   },
   "outputs": [
    {
     "data": {
      "text/plain": [
       "34"
      ]
     },
     "execution_count": 27,
     "metadata": {},
     "output_type": "execute_result"
    }
   ],
   "source": [
    "TotalStudent"
   ]
  },
  {
   "cell_type": "code",
   "execution_count": 28,
   "metadata": {
    "collapsed": false
   },
   "outputs": [],
   "source": [
    "wCoop = (Dataset[\"Coops/Internships (YN)\"] [Dataset[\"Coops/Internships (YN)\"] == \"Y\"]).count() + (Dataset[\"Coops/Internships (YN)\"] [Dataset[\"Coops/Internships (YN)\"] == \"y\"]).count()"
   ]
  },
  {
   "cell_type": "code",
   "execution_count": 29,
   "metadata": {
    "collapsed": false
   },
   "outputs": [
    {
     "data": {
      "text/plain": [
       "24"
      ]
     },
     "execution_count": 29,
     "metadata": {},
     "output_type": "execute_result"
    }
   ],
   "source": [
    "wCoop"
   ]
  },
  {
   "cell_type": "code",
   "execution_count": 30,
   "metadata": {
    "collapsed": false
   },
   "outputs": [],
   "source": [
    "percentWithCoop = (wCoop / TotalStudent) * 100"
   ]
  },
  {
   "cell_type": "code",
   "execution_count": 31,
   "metadata": {
    "collapsed": false
   },
   "outputs": [
    {
     "data": {
      "text/plain": [
       "70.588235294117652"
      ]
     },
     "execution_count": 31,
     "metadata": {},
     "output_type": "execute_result"
    }
   ],
   "source": [
    "percentWithCoop"
   ]
  },
  {
   "cell_type": "code",
   "execution_count": 32,
   "metadata": {
    "collapsed": false
   },
   "outputs": [],
   "source": [
    "wdCoop = (Dataset[\"Coops/Internships (YN)\"] [Dataset[\"Coops/Internships (YN)\"] == \"N\"]).count() + (Dataset[\"Coops/Internships (YN)\"] [Dataset[\"Coops/Internships (YN)\"] == \"n\"]).count()"
   ]
  },
  {
   "cell_type": "code",
   "execution_count": 33,
   "metadata": {
    "collapsed": false
   },
   "outputs": [
    {
     "data": {
      "text/plain": [
       "10"
      ]
     },
     "execution_count": 33,
     "metadata": {},
     "output_type": "execute_result"
    }
   ],
   "source": [
    "wdCoop"
   ]
  },
  {
   "cell_type": "code",
   "execution_count": 34,
   "metadata": {
    "collapsed": true
   },
   "outputs": [],
   "source": [
    "percentWithOutCoop = (wdCoop / TotalStudent) * 100"
   ]
  },
  {
   "cell_type": "code",
   "execution_count": 35,
   "metadata": {
    "collapsed": false
   },
   "outputs": [
    {
     "data": {
      "text/plain": [
       "29.411764705882355"
      ]
     },
     "execution_count": 35,
     "metadata": {},
     "output_type": "execute_result"
    }
   ],
   "source": [
    "percentWithOutCoop"
   ]
  },
  {
   "cell_type": "code",
   "execution_count": 36,
   "metadata": {
    "collapsed": false
   },
   "outputs": [
    {
     "ename": "SyntaxError",
     "evalue": "invalid syntax (<ipython-input-36-5cfa5489be9a>, line 1)",
     "output_type": "error",
     "traceback": [
      "\u001b[0;36m  File \u001b[0;32m\"<ipython-input-36-5cfa5489be9a>\"\u001b[0;36m, line \u001b[0;32m1\u001b[0m\n\u001b[0;31m    4) No of students with more than 500 LinkedIn contacts\u001b[0m\n\u001b[0m     ^\u001b[0m\n\u001b[0;31mSyntaxError\u001b[0m\u001b[0;31m:\u001b[0m invalid syntax\n"
     ]
    }
   ],
   "source": [
    "4) No of students with more than 500 LinkedIn contacts"
   ]
  },
  {
   "cell_type": "code",
   "execution_count": 37,
   "metadata": {
    "collapsed": true
   },
   "outputs": [],
   "source": [
    "LinkendinCount = (Dataset[\"Number of contacts on Linkedin\"] [Dataset[\"Number of contacts on Linkedin\"] > 500]).count()"
   ]
  },
  {
   "cell_type": "code",
   "execution_count": 38,
   "metadata": {
    "collapsed": false
   },
   "outputs": [
    {
     "data": {
      "text/plain": [
       "10"
      ]
     },
     "execution_count": 38,
     "metadata": {},
     "output_type": "execute_result"
    }
   ],
   "source": [
    "LinkendinCount"
   ]
  },
  {
   "cell_type": "code",
   "execution_count": 39,
   "metadata": {
    "collapsed": false
   },
   "outputs": [
    {
     "name": "stdout",
     "output_type": "stream",
     "text": [
      "Object `Range` not found.\n"
     ]
    }
   ],
   "source": [
    "5) Find the Inter Quartile Range for the Expected Salalry Range?"
   ]
  },
  {
   "cell_type": "code",
   "execution_count": null,
   "metadata": {
    "collapsed": true
   },
   "outputs": [],
   "source": [
    "5) Find the Inter Quartile Range for the Expected Salalry Range"
   ]
  },
  {
   "cell_type": "code",
   "execution_count": 47,
   "metadata": {
    "collapsed": false
   },
   "outputs": [],
   "source": [
    "data=Dataset.sort_values(\"Expected Salary after graduation\")"
   ]
  },
  {
   "cell_type": "code",
   "execution_count": 48,
   "metadata": {
    "collapsed": false
   },
   "outputs": [],
   "source": [
    "Q1 = data[\"Expected Salary after graduation\"].quantile(0.25)\n",
    "Q3 = data[\"Expected Salary after graduation\"].quantile(0.75)\n",
    "IQR = Q3 - Q1"
   ]
  },
  {
   "cell_type": "code",
   "execution_count": 49,
   "metadata": {
    "collapsed": false
   },
   "outputs": [
    {
     "data": {
      "text/plain": [
       "10000.0"
      ]
     },
     "execution_count": 49,
     "metadata": {},
     "output_type": "execute_result"
    }
   ],
   "source": [
    "IQR"
   ]
  },
  {
   "cell_type": "code",
   "execution_count": null,
   "metadata": {
    "collapsed": false
   },
   "outputs": [],
   "source": []
  },
  {
   "cell_type": "code",
   "execution_count": null,
   "metadata": {
    "collapsed": true
   },
   "outputs": [],
   "source": []
  }
 ],
 "metadata": {
  "anaconda-cloud": {},
  "kernelspec": {
   "display_name": "Python [default]",
   "language": "python",
   "name": "python3"
  },
  "language_info": {
   "codemirror_mode": {
    "name": "ipython",
    "version": 3
   },
   "file_extension": ".py",
   "mimetype": "text/x-python",
   "name": "python",
   "nbconvert_exporter": "python",
   "pygments_lexer": "ipython3",
   "version": "3.5.2"
  }
 },
 "nbformat": 4,
 "nbformat_minor": 1
}
