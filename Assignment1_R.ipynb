{
 "cells": [
  {
   "cell_type": "code",
   "execution_count": 2,
   "metadata": {
    "collapsed": false
   },
   "outputs": [],
   "source": [
    "Dataset <- read.csv(\"/Users/rahulchandra/downloads/ClassData http___bit.ly_2kyfv1G - Sheet1-2.csv\");"
   ]
  },
  {
   "cell_type": "code",
   "execution_count": 5,
   "metadata": {
    "collapsed": false
   },
   "outputs": [
    {
     "name": "stdout",
     "output_type": "stream",
     "text": [
      "   No  GPA Years.of.work.experience Latest.salary..per.year. Highest.GPA\n",
      "1   1 3.50                      2.5                    45000        3.50\n",
      "2   3 3.80                      1.0                    65000        3.60\n",
      "3   4 3.80                      2.0                    85000        4.00\n",
      "4   5 3.41                      1.5                    10000        3.41\n",
      "5   6 3.33                      5.0                    70000        3.67\n",
      "6   7 3.52                      2.5                    27000        3.58\n",
      "7   8 3.50                      2.0                    40000        3.70\n",
      "8   9 3.50                      5.0                    75000        3.53\n",
      "9  10 3.60                      2.5                    65000        3.90\n",
      "10 11 3.20                      4.0                    62000        3.80\n",
      "11 12 3.50                      2.0                    60000        3.50\n",
      "12 13 3.67                      1.8                    60000        4.00\n",
      "13 14 3.50                      2.0                    60000        3.70\n",
      "14 15 3.47                      2.5                    70000        3.64\n",
      "15 16 3.06                      1.3                    40000        3.64\n",
      "16 17 3.27                      2.0                    60000        4.00\n",
      "17 18 3.53                      4.0                    50000        4.00\n",
      "18 19 4.00                      4.0                    50000        4.00\n",
      "19 20 3.40                      1.0                    30000        3.60\n",
      "20 21 3.54                      1.0                    40000        4.00\n",
      "21 22 3.50                      2.0                    75000        4.00\n",
      "22 23 3.50                      4.0                    50000        3.80\n",
      "23 24 3.40                      3.0                    50000        3.80\n",
      "24 26 3.30                      4.0                    65000        4.00\n",
      "25 27 3.90                      6.0                    90000        4.00\n",
      "26 28 3.17                      1.0                    50000        3.30\n",
      "27 29 3.48                      3.5                    60000        4.00\n",
      "28 30 3.93                      4.0                    43000        4.00\n",
      "29 31 3.43                      4.0                    60000        3.50\n",
      "30 32 3.33                      5.0                     5000        3.66\n",
      "31 33 3.60                      1.5                    60000        3.70\n",
      "32 34 3.80                      3.0                    65000        3.80\n",
      "33 35 3.50                      3.0                    65000        4.00\n",
      "34 36 3.39                      2.0                    60000        3.80\n",
      "   Lowest.GPA Coops.Internships..YN. Number.of.contacts.on.Linkedin\n",
      "1        3.50                      N                            250\n",
      "2        3.00                      Y                            400\n",
      "3        3.60                      Y                            500\n",
      "4        3.33                      N                            365\n",
      "5        3.00                      Y                            400\n",
      "6        3.52                      N                            230\n",
      "7        3.30                      N                            250\n",
      "8        3.30                      Y                            260\n",
      "9        3.10                      Y                            250\n",
      "10       3.00                      N                            525\n",
      "11       3.50                      N                            400\n",
      "12       3.00                      N                            920\n",
      "13       3.30                      y                            300\n",
      "14       3.37                      Y                            310\n",
      "15       2.67                      Y                            550\n",
      "16       3.00                      Y                            350\n",
      "17       3.30                      N                            600\n",
      "18       4.00                      Y                            500\n",
      "19       3.10                      N                            500\n",
      "20       3.42                      Y                            650\n",
      "21       3.00                      Y                            515\n",
      "22       3.20                      Y                            350\n",
      "23       3.20                      Y                            301\n",
      "24       3.65                      Y                            700\n",
      "25       3.80                      Y                            809\n",
      "26       3.00                      N                            258\n",
      "27       3.33                      Y                            350\n",
      "28       3.28                      Y                            900\n",
      "29       3.30                      Y                            220\n",
      "30       3.00                      Y                            183\n",
      "31       3.40                      Y                            340\n",
      "32       3.50                      Y                            800\n",
      "33       3.60                      Y                            400\n",
      "34       3.20                      Y                            500\n",
      "   Expected.Salary.after.graduation\n",
      "1                             90000\n",
      "2                            100000\n",
      "3                             90000\n",
      "4                            100000\n",
      "5                            100000\n",
      "6                             85000\n",
      "7                             90000\n",
      "8                            100000\n",
      "9                            110000\n",
      "10                           105000\n",
      "11                            85000\n",
      "12                           140000\n",
      "13                            90000\n",
      "14                            95000\n",
      "15                           120000\n",
      "16                           100000\n",
      "17                            88000\n",
      "18                           130000\n",
      "19                            80000\n",
      "20                            95000\n",
      "21                            80000\n",
      "22                           110000\n",
      "23                            90000\n",
      "24                           100000\n",
      "25                           120000\n",
      "26                           100000\n",
      "27                           100000\n",
      "28                           100000\n",
      "29                           110000\n",
      "30                           100000\n",
      "31                           100000\n",
      "32                            80000\n",
      "33                            80000\n",
      "34                            90000\n"
     ]
    }
   ],
   "source": [
    "print(Dataset);"
   ]
  },
  {
   "cell_type": "code",
   "execution_count": null,
   "metadata": {
    "collapsed": false
   },
   "outputs": [],
   "source": [
    "1) Min, Max, Median, Avg for GPA and YearofWorkExp"
   ]
  },
  {
   "cell_type": "code",
   "execution_count": 7,
   "metadata": {
    "collapsed": false
   },
   "outputs": [
    {
     "data": {
      "text/html": [
       "3.06"
      ],
      "text/latex": [
       "3.06"
      ],
      "text/markdown": [
       "3.06"
      ],
      "text/plain": [
       "[1] 3.06"
      ]
     },
     "metadata": {},
     "output_type": "display_data"
    }
   ],
   "source": [
    "min(Dataset[2])"
   ]
  },
  {
   "cell_type": "code",
   "execution_count": 8,
   "metadata": {
    "collapsed": true
   },
   "outputs": [],
   "source": [
    "minGPA <- min(Dataset$GPA)"
   ]
  },
  {
   "cell_type": "code",
   "execution_count": 9,
   "metadata": {
    "collapsed": false
   },
   "outputs": [
    {
     "data": {
      "text/html": [
       "3.06"
      ],
      "text/latex": [
       "3.06"
      ],
      "text/markdown": [
       "3.06"
      ],
      "text/plain": [
       "[1] 3.06"
      ]
     },
     "metadata": {},
     "output_type": "display_data"
    }
   ],
   "source": [
    "minGPA"
   ]
  },
  {
   "cell_type": "code",
   "execution_count": 10,
   "metadata": {
    "collapsed": true
   },
   "outputs": [],
   "source": [
    "maxGPA <- max(Dataset$GPA)"
   ]
  },
  {
   "cell_type": "code",
   "execution_count": 11,
   "metadata": {
    "collapsed": false
   },
   "outputs": [
    {
     "data": {
      "text/html": [
       "4"
      ],
      "text/latex": [
       "4"
      ],
      "text/markdown": [
       "4"
      ],
      "text/plain": [
       "[1] 4"
      ]
     },
     "metadata": {},
     "output_type": "display_data"
    }
   ],
   "source": [
    "maxGPA"
   ]
  },
  {
   "cell_type": "code",
   "execution_count": 12,
   "metadata": {
    "collapsed": true
   },
   "outputs": [],
   "source": [
    "medianGPA <- median(Dataset$GPA)"
   ]
  },
  {
   "cell_type": "code",
   "execution_count": 14,
   "metadata": {
    "collapsed": false
   },
   "outputs": [
    {
     "data": {
      "text/html": [
       "3.5"
      ],
      "text/latex": [
       "3.5"
      ],
      "text/markdown": [
       "3.5"
      ],
      "text/plain": [
       "[1] 3.5"
      ]
     },
     "metadata": {},
     "output_type": "display_data"
    }
   ],
   "source": [
    "medianGPA"
   ]
  },
  {
   "cell_type": "code",
   "execution_count": 15,
   "metadata": {
    "collapsed": true
   },
   "outputs": [],
   "source": [
    "avgGPA <- mean(Dataset$GPA)"
   ]
  },
  {
   "cell_type": "code",
   "execution_count": 16,
   "metadata": {
    "collapsed": false
   },
   "outputs": [
    {
     "data": {
      "text/html": [
       "3.50970588235294"
      ],
      "text/latex": [
       "3.50970588235294"
      ],
      "text/markdown": [
       "3.50970588235294"
      ],
      "text/plain": [
       "[1] 3.509706"
      ]
     },
     "metadata": {},
     "output_type": "display_data"
    }
   ],
   "source": [
    "avgGPA"
   ]
  },
  {
   "cell_type": "markdown",
   "metadata": {},
   "source": []
  },
  {
   "cell_type": "code",
   "execution_count": 17,
   "metadata": {
    "collapsed": true
   },
   "outputs": [],
   "source": [
    "minYofEx <- min(Dataset$Years.of.work.experience)"
   ]
  },
  {
   "cell_type": "code",
   "execution_count": 18,
   "metadata": {
    "collapsed": false
   },
   "outputs": [
    {
     "data": {
      "text/html": [
       "1"
      ],
      "text/latex": [
       "1"
      ],
      "text/markdown": [
       "1"
      ],
      "text/plain": [
       "[1] 1"
      ]
     },
     "metadata": {},
     "output_type": "display_data"
    }
   ],
   "source": [
    "minYofEx"
   ]
  },
  {
   "cell_type": "code",
   "execution_count": 19,
   "metadata": {
    "collapsed": true
   },
   "outputs": [],
   "source": [
    "maxYofEx <- max(Dataset$Years.of.work.experience)"
   ]
  },
  {
   "cell_type": "code",
   "execution_count": 20,
   "metadata": {
    "collapsed": false
   },
   "outputs": [
    {
     "data": {
      "text/html": [
       "6"
      ],
      "text/latex": [
       "6"
      ],
      "text/markdown": [
       "6"
      ],
      "text/plain": [
       "[1] 6"
      ]
     },
     "metadata": {},
     "output_type": "display_data"
    }
   ],
   "source": [
    "maxYofEx"
   ]
  },
  {
   "cell_type": "code",
   "execution_count": 21,
   "metadata": {
    "collapsed": true
   },
   "outputs": [],
   "source": [
    "medianYofEx <- median(Dataset$Years.of.work.experience)"
   ]
  },
  {
   "cell_type": "code",
   "execution_count": 22,
   "metadata": {
    "collapsed": false
   },
   "outputs": [
    {
     "data": {
      "text/html": [
       "2.5"
      ],
      "text/latex": [
       "2.5"
      ],
      "text/markdown": [
       "2.5"
      ],
      "text/plain": [
       "[1] 2.5"
      ]
     },
     "metadata": {},
     "output_type": "display_data"
    }
   ],
   "source": [
    "medianYofEx"
   ]
  },
  {
   "cell_type": "code",
   "execution_count": 23,
   "metadata": {
    "collapsed": true
   },
   "outputs": [],
   "source": [
    "avgYofEx <- mean(Dataset$Years.of.work.experience)"
   ]
  },
  {
   "cell_type": "code",
   "execution_count": 24,
   "metadata": {
    "collapsed": false
   },
   "outputs": [
    {
     "data": {
      "text/html": [
       "2.81176470588235"
      ],
      "text/latex": [
       "2.81176470588235"
      ],
      "text/markdown": [
       "2.81176470588235"
      ],
      "text/plain": [
       "[1] 2.811765"
      ]
     },
     "metadata": {},
     "output_type": "display_data"
    }
   ],
   "source": [
    "avgYofEx"
   ]
  },
  {
   "cell_type": "code",
   "execution_count": null,
   "metadata": {
    "collapsed": false
   },
   "outputs": [],
   "source": [
    "2) Find the mode of the Salary"
   ]
  },
  {
   "cell_type": "code",
   "execution_count": 32,
   "metadata": {
    "collapsed": true
   },
   "outputs": [],
   "source": [
    "v <- c(Dataset$Latest.salary..per.year)"
   ]
  },
  {
   "cell_type": "code",
   "execution_count": 33,
   "metadata": {
    "collapsed": false
   },
   "outputs": [
    {
     "data": {
      "text/html": [
       "<ol class=list-inline>\n",
       "\t<li>45000</li>\n",
       "\t<li>65000</li>\n",
       "\t<li>85000</li>\n",
       "\t<li>10000</li>\n",
       "\t<li>70000</li>\n",
       "\t<li>27000</li>\n",
       "\t<li>40000</li>\n",
       "\t<li>75000</li>\n",
       "\t<li>65000</li>\n",
       "\t<li>62000</li>\n",
       "\t<li>60000</li>\n",
       "\t<li>60000</li>\n",
       "\t<li>60000</li>\n",
       "\t<li>70000</li>\n",
       "\t<li>40000</li>\n",
       "\t<li>60000</li>\n",
       "\t<li>50000</li>\n",
       "\t<li>50000</li>\n",
       "\t<li>30000</li>\n",
       "\t<li>40000</li>\n",
       "\t<li>75000</li>\n",
       "\t<li>50000</li>\n",
       "\t<li>50000</li>\n",
       "\t<li>65000</li>\n",
       "\t<li>90000</li>\n",
       "\t<li>50000</li>\n",
       "\t<li>60000</li>\n",
       "\t<li>43000</li>\n",
       "\t<li>60000</li>\n",
       "\t<li>5000</li>\n",
       "\t<li>60000</li>\n",
       "\t<li>65000</li>\n",
       "\t<li>65000</li>\n",
       "\t<li>60000</li>\n",
       "</ol>\n"
      ],
      "text/latex": [
       "\\begin{enumerate*}\n",
       "\\item 45000\n",
       "\\item 65000\n",
       "\\item 85000\n",
       "\\item 10000\n",
       "\\item 70000\n",
       "\\item 27000\n",
       "\\item 40000\n",
       "\\item 75000\n",
       "\\item 65000\n",
       "\\item 62000\n",
       "\\item 60000\n",
       "\\item 60000\n",
       "\\item 60000\n",
       "\\item 70000\n",
       "\\item 40000\n",
       "\\item 60000\n",
       "\\item 50000\n",
       "\\item 50000\n",
       "\\item 30000\n",
       "\\item 40000\n",
       "\\item 75000\n",
       "\\item 50000\n",
       "\\item 50000\n",
       "\\item 65000\n",
       "\\item 90000\n",
       "\\item 50000\n",
       "\\item 60000\n",
       "\\item 43000\n",
       "\\item 60000\n",
       "\\item 5000\n",
       "\\item 60000\n",
       "\\item 65000\n",
       "\\item 65000\n",
       "\\item 60000\n",
       "\\end{enumerate*}\n"
      ],
      "text/markdown": [
       "1. 45000\n",
       "2. 65000\n",
       "3. 85000\n",
       "4. 10000\n",
       "5. 70000\n",
       "6. 27000\n",
       "7. 40000\n",
       "8. 75000\n",
       "9. 65000\n",
       "10. 62000\n",
       "11. 60000\n",
       "12. 60000\n",
       "13. 60000\n",
       "14. 70000\n",
       "15. 40000\n",
       "16. 60000\n",
       "17. 50000\n",
       "18. 50000\n",
       "19. 30000\n",
       "20. 40000\n",
       "21. 75000\n",
       "22. 50000\n",
       "23. 50000\n",
       "24. 65000\n",
       "25. 90000\n",
       "26. 50000\n",
       "27. 60000\n",
       "28. 43000\n",
       "29. 60000\n",
       "30. 5000\n",
       "31. 60000\n",
       "32. 65000\n",
       "33. 65000\n",
       "34. 60000\n",
       "\n",
       "\n"
      ],
      "text/plain": [
       " [1] 45000 65000 85000 10000 70000 27000 40000 75000 65000 62000 60000 60000\n",
       "[13] 60000 70000 40000 60000 50000 50000 30000 40000 75000 50000 50000 65000\n",
       "[25] 90000 50000 60000 43000 60000  5000 60000 65000 65000 60000"
      ]
     },
     "metadata": {},
     "output_type": "display_data"
    }
   ],
   "source": [
    "v"
   ]
  },
  {
   "cell_type": "code",
   "execution_count": 34,
   "metadata": {
    "collapsed": true
   },
   "outputs": [],
   "source": [
    "getmode <- function(v) {\n",
    "   uniqv <- unique(v)\n",
    "   uniqv[which.max(tabulate(match(v, uniqv)))]\n",
    "}"
   ]
  },
  {
   "cell_type": "code",
   "execution_count": 43,
   "metadata": {
    "collapsed": true
   },
   "outputs": [],
   "source": [
    "modeLatestSalary <- getmode(v)"
   ]
  },
  {
   "cell_type": "code",
   "execution_count": 44,
   "metadata": {
    "collapsed": false
   },
   "outputs": [
    {
     "data": {
      "text/html": [
       "60000"
      ],
      "text/latex": [
       "60000"
      ],
      "text/markdown": [
       "60000"
      ],
      "text/plain": [
       "[1] 60000"
      ]
     },
     "metadata": {},
     "output_type": "display_data"
    }
   ],
   "source": [
    "modeLatestSalary"
   ]
  },
  {
   "cell_type": "code",
   "execution_count": 41,
   "metadata": {
    "collapsed": true
   },
   "outputs": [],
   "source": [
    "s <- c(Dataset$Expected.Salary.after.graduation)"
   ]
  },
  {
   "cell_type": "code",
   "execution_count": 51,
   "metadata": {
    "collapsed": false
   },
   "outputs": [
    {
     "data": {
      "text/html": [
       "<ol class=list-inline>\n",
       "\t<li>90000</li>\n",
       "\t<li>100000</li>\n",
       "\t<li>90000</li>\n",
       "\t<li>100000</li>\n",
       "\t<li>100000</li>\n",
       "\t<li>85000</li>\n",
       "\t<li>90000</li>\n",
       "\t<li>100000</li>\n",
       "\t<li>110000</li>\n",
       "\t<li>105000</li>\n",
       "\t<li>85000</li>\n",
       "\t<li>140000</li>\n",
       "\t<li>90000</li>\n",
       "\t<li>95000</li>\n",
       "\t<li>120000</li>\n",
       "\t<li>100000</li>\n",
       "\t<li>88000</li>\n",
       "\t<li>130000</li>\n",
       "\t<li>80000</li>\n",
       "\t<li>95000</li>\n",
       "\t<li>80000</li>\n",
       "\t<li>110000</li>\n",
       "\t<li>90000</li>\n",
       "\t<li>100000</li>\n",
       "\t<li>120000</li>\n",
       "\t<li>100000</li>\n",
       "\t<li>100000</li>\n",
       "\t<li>100000</li>\n",
       "\t<li>110000</li>\n",
       "\t<li>100000</li>\n",
       "\t<li>100000</li>\n",
       "\t<li>80000</li>\n",
       "\t<li>80000</li>\n",
       "\t<li>90000</li>\n",
       "</ol>\n"
      ],
      "text/latex": [
       "\\begin{enumerate*}\n",
       "\\item 90000\n",
       "\\item 100000\n",
       "\\item 90000\n",
       "\\item 100000\n",
       "\\item 100000\n",
       "\\item 85000\n",
       "\\item 90000\n",
       "\\item 100000\n",
       "\\item 110000\n",
       "\\item 105000\n",
       "\\item 85000\n",
       "\\item 140000\n",
       "\\item 90000\n",
       "\\item 95000\n",
       "\\item 120000\n",
       "\\item 100000\n",
       "\\item 88000\n",
       "\\item 130000\n",
       "\\item 80000\n",
       "\\item 95000\n",
       "\\item 80000\n",
       "\\item 110000\n",
       "\\item 90000\n",
       "\\item 100000\n",
       "\\item 120000\n",
       "\\item 100000\n",
       "\\item 100000\n",
       "\\item 100000\n",
       "\\item 110000\n",
       "\\item 100000\n",
       "\\item 100000\n",
       "\\item 80000\n",
       "\\item 80000\n",
       "\\item 90000\n",
       "\\end{enumerate*}\n"
      ],
      "text/markdown": [
       "1. 90000\n",
       "2. 100000\n",
       "3. 90000\n",
       "4. 100000\n",
       "5. 100000\n",
       "6. 85000\n",
       "7. 90000\n",
       "8. 100000\n",
       "9. 110000\n",
       "10. 105000\n",
       "11. 85000\n",
       "12. 140000\n",
       "13. 90000\n",
       "14. 95000\n",
       "15. 120000\n",
       "16. 100000\n",
       "17. 88000\n",
       "18. 130000\n",
       "19. 80000\n",
       "20. 95000\n",
       "21. 80000\n",
       "22. 110000\n",
       "23. 90000\n",
       "24. 100000\n",
       "25. 120000\n",
       "26. 100000\n",
       "27. 100000\n",
       "28. 100000\n",
       "29. 110000\n",
       "30. 100000\n",
       "31. 100000\n",
       "32. 80000\n",
       "33. 80000\n",
       "34. 90000\n",
       "\n",
       "\n"
      ],
      "text/plain": [
       " [1]  90000 100000  90000 100000 100000  85000  90000 100000 110000 105000\n",
       "[11]  85000 140000  90000  95000 120000 100000  88000 130000  80000  95000\n",
       "[21]  80000 110000  90000 100000 120000 100000 100000 100000 110000 100000\n",
       "[31] 100000  80000  80000  90000"
      ]
     },
     "metadata": {},
     "output_type": "display_data"
    }
   ],
   "source": [
    "s"
   ]
  },
  {
   "cell_type": "code",
   "execution_count": 45,
   "metadata": {
    "collapsed": true
   },
   "outputs": [],
   "source": [
    "modeExpextedSalary <- getmode(s)"
   ]
  },
  {
   "cell_type": "code",
   "execution_count": 46,
   "metadata": {
    "collapsed": false
   },
   "outputs": [
    {
     "data": {
      "text/html": [
       "100000"
      ],
      "text/latex": [
       "100000"
      ],
      "text/markdown": [
       "100000"
      ],
      "text/plain": [
       "[1] 100000"
      ]
     },
     "metadata": {},
     "output_type": "display_data"
    }
   ],
   "source": [
    "modeExpextedSalary"
   ]
  },
  {
   "cell_type": "code",
   "execution_count": null,
   "metadata": {
    "collapsed": false
   },
   "outputs": [],
   "source": [
    "3) % of students having Co/op and not having Co/op"
   ]
  },
  {
   "cell_type": "code",
   "execution_count": 97,
   "metadata": {
    "collapsed": false
   },
   "outputs": [],
   "source": [
    "total <- length(Dataset$Coops.Internships..YN.)"
   ]
  },
  {
   "cell_type": "code",
   "execution_count": 98,
   "metadata": {
    "collapsed": false
   },
   "outputs": [
    {
     "data": {
      "text/html": [
       "34"
      ],
      "text/latex": [
       "34"
      ],
      "text/markdown": [
       "34"
      ],
      "text/plain": [
       "[1] 34"
      ]
     },
     "metadata": {},
     "output_type": "display_data"
    }
   ],
   "source": [
    "total"
   ]
  },
  {
   "cell_type": "code",
   "execution_count": 99,
   "metadata": {
    "collapsed": false
   },
   "outputs": [],
   "source": [
    "woCoop<- length(which((Dataset$Coops.Internships..YN. == 'N')|(Dataset$Coops.Internships..YN. == 'n')))"
   ]
  },
  {
   "cell_type": "code",
   "execution_count": 100,
   "metadata": {
    "collapsed": false
   },
   "outputs": [
    {
     "data": {
      "text/html": [
       "10"
      ],
      "text/latex": [
       "10"
      ],
      "text/markdown": [
       "10"
      ],
      "text/plain": [
       "[1] 10"
      ]
     },
     "metadata": {},
     "output_type": "display_data"
    }
   ],
   "source": [
    "woCoop"
   ]
  },
  {
   "cell_type": "code",
   "execution_count": 101,
   "metadata": {
    "collapsed": false
   },
   "outputs": [],
   "source": [
    "wCoop<- length(which((Dataset$Coops.Internships..YN. == 'Y')|(Dataset$Coops.Internships..YN. == 'y')))"
   ]
  },
  {
   "cell_type": "code",
   "execution_count": 102,
   "metadata": {
    "collapsed": false
   },
   "outputs": [
    {
     "data": {
      "text/html": [
       "24"
      ],
      "text/latex": [
       "24"
      ],
      "text/markdown": [
       "24"
      ],
      "text/plain": [
       "[1] 24"
      ]
     },
     "metadata": {},
     "output_type": "display_data"
    }
   ],
   "source": [
    "wCoop"
   ]
  },
  {
   "cell_type": "code",
   "execution_count": 103,
   "metadata": {
    "collapsed": true
   },
   "outputs": [],
   "source": [
    "percentCoop <- (wCoop/total) * 100"
   ]
  },
  {
   "cell_type": "code",
   "execution_count": 104,
   "metadata": {
    "collapsed": false
   },
   "outputs": [
    {
     "data": {
      "text/html": [
       "70.5882352941177"
      ],
      "text/latex": [
       "70.5882352941177"
      ],
      "text/markdown": [
       "70.5882352941177"
      ],
      "text/plain": [
       "[1] 70.58824"
      ]
     },
     "metadata": {},
     "output_type": "display_data"
    }
   ],
   "source": [
    "percentCoop"
   ]
  },
  {
   "cell_type": "code",
   "execution_count": 105,
   "metadata": {
    "collapsed": true
   },
   "outputs": [],
   "source": [
    "percentWCoop <- (woCoop/total) * 100"
   ]
  },
  {
   "cell_type": "code",
   "execution_count": 106,
   "metadata": {
    "collapsed": false
   },
   "outputs": [
    {
     "data": {
      "text/html": [
       "29.4117647058824"
      ],
      "text/latex": [
       "29.4117647058824"
      ],
      "text/markdown": [
       "29.4117647058824"
      ],
      "text/plain": [
       "[1] 29.41176"
      ]
     },
     "metadata": {},
     "output_type": "display_data"
    }
   ],
   "source": [
    "percentWCoop"
   ]
  },
  {
   "cell_type": "code",
   "execution_count": null,
   "metadata": {
    "collapsed": true
   },
   "outputs": [],
   "source": [
    "4) No of students with more than 500 LinkedIn contacts"
   ]
  },
  {
   "cell_type": "code",
   "execution_count": 108,
   "metadata": {
    "collapsed": true
   },
   "outputs": [],
   "source": [
    "noOfLinkedinContact<- length(which((Dataset$Number.of.contacts.on.Linkedin > 500)))"
   ]
  },
  {
   "cell_type": "code",
   "execution_count": 109,
   "metadata": {
    "collapsed": false
   },
   "outputs": [
    {
     "data": {
      "text/html": [
       "10"
      ],
      "text/latex": [
       "10"
      ],
      "text/markdown": [
       "10"
      ],
      "text/plain": [
       "[1] 10"
      ]
     },
     "metadata": {},
     "output_type": "display_data"
    }
   ],
   "source": [
    "noOfLinkedinContact"
   ]
  },
  {
   "cell_type": "code",
   "execution_count": null,
   "metadata": {
    "collapsed": true
   },
   "outputs": [],
   "source": [
    "5) Find the Inter Quartile Range for the Expected Salalry Range?"
   ]
  },
  {
   "cell_type": "code",
   "execution_count": 113,
   "metadata": {
    "collapsed": false
   },
   "outputs": [],
   "source": [
    "iqrExpectedSalary <- IQR(Dataset$Expected.Salary.after.graduation)"
   ]
  },
  {
   "cell_type": "code",
   "execution_count": 114,
   "metadata": {
    "collapsed": false
   },
   "outputs": [
    {
     "data": {
      "text/html": [
       "10000"
      ],
      "text/latex": [
       "10000"
      ],
      "text/markdown": [
       "10000"
      ],
      "text/plain": [
       "[1] 10000"
      ]
     },
     "metadata": {},
     "output_type": "display_data"
    }
   ],
   "source": [
    "iqrExpectedSalary"
   ]
  },
  {
   "cell_type": "code",
   "execution_count": null,
   "metadata": {
    "collapsed": true
   },
   "outputs": [],
   "source": [
    "value = Dataset[\"\"]"
   ]
  },
  {
   "cell_type": "code",
   "execution_count": null,
   "metadata": {
    "collapsed": true
   },
   "outputs": [],
   "source": []
  },
  {
   "cell_type": "code",
   "execution_count": null,
   "metadata": {
    "collapsed": true
   },
   "outputs": [],
   "source": []
  },
  {
   "cell_type": "code",
   "execution_count": null,
   "metadata": {
    "collapsed": true
   },
   "outputs": [],
   "source": []
  },
  {
   "cell_type": "code",
   "execution_count": null,
   "metadata": {
    "collapsed": true
   },
   "outputs": [],
   "source": []
  },
  {
   "cell_type": "code",
   "execution_count": null,
   "metadata": {
    "collapsed": true
   },
   "outputs": [],
   "source": []
  },
  {
   "cell_type": "code",
   "execution_count": null,
   "metadata": {
    "collapsed": true
   },
   "outputs": [],
   "source": []
  },
  {
   "cell_type": "code",
   "execution_count": null,
   "metadata": {
    "collapsed": true
   },
   "outputs": [],
   "source": []
  }
 ],
 "metadata": {
  "anaconda-cloud": {},
  "kernelspec": {
   "display_name": "R",
   "language": "R",
   "name": "ir"
  },
  "language_info": {
   "codemirror_mode": "r",
   "file_extension": ".r",
   "mimetype": "text/x-r-source",
   "name": "R",
   "pygments_lexer": "r",
   "version": "3.3.2"
  }
 },
 "nbformat": 4,
 "nbformat_minor": 1
}
