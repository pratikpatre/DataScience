{
 "cells": [
  {
   "cell_type": "code",
   "execution_count": 14,
   "metadata": {
    "collapsed": true
   },
   "outputs": [],
   "source": [
    "import pip\n",
    "def install(package):\n",
    "   pip.main(['install', package])"
   ]
  },
  {
   "cell_type": "code",
   "execution_count": 15,
   "metadata": {
    "collapsed": false
   },
   "outputs": [
    {
     "name": "stdout",
     "output_type": "stream",
     "text": [
      "Requirement already satisfied (use --upgrade to upgrade): urllib3 in /Users/rahulchandra/anaconda/lib/python3.5/site-packages\n"
     ]
    },
    {
     "name": "stderr",
     "output_type": "stream",
     "text": [
      "You are using pip version 8.1.2, however version 9.0.1 is available.\n",
      "You should consider upgrading via the 'pip install --upgrade pip' command.\n"
     ]
    }
   ],
   "source": [
    "install('urllib3')"
   ]
  },
  {
   "cell_type": "code",
   "execution_count": null,
   "metadata": {
    "collapsed": true
   },
   "outputs": [],
   "source": [
    "with open('config.json') as json_file:    \n",
    "        json_data = json.load(json_file)\n",
    "        quater = json_data[\"args\"][0]\n",
    "        username = json_data[\"args\"][1]\n",
    "        password = json_data[\"args\"][2]"
   ]
  },
  {
   "cell_type": "code",
   "execution_count": 16,
   "metadata": {
    "collapsed": false
   },
   "outputs": [
    {
     "name": "stdout",
     "output_type": "stream",
     "text": [
      "<requests.sessions.Session object at 0x15c1bddd8>\n"
     ]
    }
   ],
   "source": [
    "import urllib.request\n",
    "import pandas as pd\n",
    "import requests\n",
    "import sys\n",
    "import cgitb\n",
    "import urllib3\n",
    "from bs4 import BeautifulSoup as bsoup\n",
    "\n",
    "url =\"https://freddiemac.embs.com/FLoan/secure/auth.php\"\n",
    "url1 = \"https://freddiemac.embs.com/FLoan/Data/\"\n",
    "\n",
    "session = requests.session()\n",
    "\n",
    "print(session)\n",
    "\n",
    "session_data = {'username': username,\n",
    "              'password':password,\n",
    "               #'submit':'auth.php',\n",
    "               'accept':'Yes',\n",
    "                'action':'acceptTandC',\n",
    "                'acceptSubmit':'Continue'}\n",
    "\n",
    "r = session.post(url,data = session_data)\n",
    "#print(r.cookies)\n",
    "\n",
    "response = session.get(\"https://freddiemac.embs.com/FLo,an/Data/download.php\")\n",
    "#print(response.text)\n",
    "\n",
    "if 'Terms and Conditions' in response.text:\n",
    "    print('Yes')\n",
    "    session_data = {'username': username,\n",
    "                    'password':password,\n",
    "                    'accept':'Yes',\n",
    "                    #'accept':'on',\n",
    "                    'action': 'acceptTandC',\n",
    "                   'acceptSubmit':'Continue',\n",
    "                   'accept.checked':'true'}\n",
    "    \n",
    "    r = session.post('https://freddiemac.embs.com/FLoan/Data/download.php',data = session_data)\n",
    "    #print(r.text)\n",
    "\n",
    "    response = session.get(\"https://freddiemac.embs.com/FLoan/Data/download.php\")\n",
    "    \n",
    "    #a = urllib.request.urlopen('https://freddiemac.embs.com/FLoan/Data/acceptTandC')\n",
    "    #content= response.read()\n",
    "    #print(response.content)\n",
    "    #r = session.post(url,data = session_data)\n",
    "    #response = session.get(\"https://freddiemac.embs.com/FLoan/Data/download.php\")\n",
    "    #print(response.text)"
   ]
  },
  {
   "cell_type": "code",
   "execution_count": 4,
   "metadata": {
    "collapsed": false
   },
   "outputs": [
    {
     "name": "stdout",
     "output_type": "stream",
     "text": [
      "/Users/rahulchandra/Downloads\n"
     ]
    }
   ],
   "source": [
    "import os\n",
    "cwd = os.getcwd()\n",
    "path = cwd +\"\"+quater\n",
    "print (cwd)\n",
    "os.mkdir( path)\n",
    "os.chdir(path)"
   ]
  },
  {
   "cell_type": "code",
   "execution_count": 5,
   "metadata": {
    "collapsed": true
   },
   "outputs": [],
   "source": [
    "import zipfile, io, time\n",
    "soup= bsoup(response.text,'lxml')\n",
    "#print(soup)\n",
    "\n",
    "href = soup.findAll ('a',limit=None)\n",
    "\n",
    "for a in href:   \n",
    "    zip_file_url = url1+a['href']\n",
    "    #print (os.getcwd())\n",
    "    if quater in (zip_file_url):\n",
    "        print(zip_file_url)\n",
    "        zfile = session.get(zip_file_url)\n",
    "        #time.sleep(5)\n",
    "        print(zfile)\n",
    "        z = zipfile.ZipFile(io.BytesIO(zfile.content))\n",
    "        z.extractall()\n",
    "#os.chdir(cwd)"
   ]
  },
  {
   "cell_type": "code",
   "execution_count": 12,
   "metadata": {
    "collapsed": false
   },
   "outputs": [],
   "source": [
    "import glob\n",
    "fileList = glob.glob('*historical*')"
   ]
  },
  {
   "cell_type": "code",
   "execution_count": null,
   "metadata": {
    "collapsed": false
   },
   "outputs": [],
   "source": [
    "list_of_lists = []\n",
    "lines = []\n",
    "year = 0\n",
    "output_List=[]\n",
    "final_List=[]\n",
    "\n",
    "for i in fileList:\n",
    "    if 'data1_Q' in i:\n",
    "        file = open(i, 'r') \n",
    "        for line in file: \n",
    "            lines = line.split('|')\n",
    "            lines.append(i[18:23])\n",
    "            list_of_lists.append(lines)            \n",
    "        output_List=getDataValues(list_of_lists)\n",
    "\n",
    "output_List.to_csv('Assignment2_output.csv', index=False, header=True)"
   ]
  },
  {
   "cell_type": "code",
   "execution_count": 38,
   "metadata": {
    "collapsed": false
   },
   "outputs": [
    {
     "name": "stdout",
     "output_type": "stream",
     "text": [
      "/Users/rahulchandra/Downloads/sample\n"
     ]
    }
   ],
   "source": [
    "def getDataValues(list_of_lists):\n",
    "    data1=pd.DataFrame(list_of_lists)\n",
    "    data1.rename(columns={0:'CreditScore',1:'FirstPaymentDT',2:'FirstTimeHomeBuyerFlag',3:'MaturityDT',4:'MetroDiv',5:'MortgageInsurancePT',6:'NoUnits',7:'OccupancyStatus',8:'OrigCLTV',9:'OrigDTI',10:'OrigUPB',11:'OrigLTV',12:'OrigInterestRate',13:'Channel',14:'PPMFlag',15:'ProductType',16:'PropertyState',17:'PropertyType',18:'PostaleCode',19:'LoanSeqNo',20:'LoanPurpose',21:'OrigLoanTerm',22:'NoOfBorrowers',23:'SellerName',24:'ServicerName',25:'SuperConfFlag'}, inplace=True)\n",
    "    sendDataFrame(data1)\n",
    "    return output_List"
   ]
  },
  {
   "cell_type": "code",
   "execution_count": null,
   "metadata": {
    "collapsed": true
   },
   "outputs": [],
   "source": [
    "def sendDataFrame(list_of_lists):\n",
    "    rstring =\n",
    "    return data1"
   ]
  },
  {
   "cell_type": "code",
   "execution_count": null,
   "metadata": {
    "collapsed": true
   },
   "outputs": [],
   "source": []
  }
 ],
 "metadata": {
  "anaconda-cloud": {},
  "kernelspec": {
   "display_name": "Python [conda root]",
   "language": "python",
   "name": "conda-root-py"
  },
  "language_info": {
   "codemirror_mode": {
    "name": "ipython",
    "version": 3
   },
   "file_extension": ".py",
   "mimetype": "text/x-python",
   "name": "python",
   "nbconvert_exporter": "python",
   "pygments_lexer": "ipython3",
   "version": "3.5.2"
  }
 },
 "nbformat": 4,
 "nbformat_minor": 1
}
