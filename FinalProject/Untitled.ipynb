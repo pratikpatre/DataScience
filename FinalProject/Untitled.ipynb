{
 "cells": [
  {
   "cell_type": "code",
   "execution_count": null,
   "metadata": {
    "collapsed": true
   },
   "outputs": [],
   "source": [
    "The rate of a property depends on factors like the total area, type of property or how much is the development in the area. But, there are other aspect to this as well i.e. spatial components. Spatial components can be one of the most important factors in determining the price of a location. Some of these components include the fatality rate due to natural calamities, the crime rates or number of hospitals, police and other facilities like these in an area. These factors do play an important role for finding an appropriate Property Rate.\n",
    "The Datasets that were used in our project were as follows:\n",
    "1)\tCrime Data\n",
    "2)\tPolice Data\n",
    "3)\tProperty Data\n",
    "4)\tTragedy Data\n",
    "5)\tPopulation Data\n",
    "6)\tHospital Data\n",
    "The goal of this project is to cover the following Use Cases:\n",
    "1)\tTo show a User 5 probable property listings as per his input values.\n",
    "2)\tTo predict the prices of these property listings after 10 years as per the historical data of the property. \n",
    "3)\tTo predict the property price after 10 years per geospatial data. \n",
    "4)\tTo find out the current property rate for State of Texas based on above all parameters.\n",
    "Key Concepts which we covered while working on ArcMAP:\n",
    "1)\tAdding new Map and adding appropriate properties for a project\n",
    "\n",
    "2)\tCreating Layers from different map\n",
    "\n",
    "3)\tAssociate data to maps and create appropriate symbology\n",
    "\n",
    "4)\tCreating Feature Classes.\n",
    "\n",
    "5)\tGeoprocessing\n",
    "\n",
    "6)\tGeospatial Analysis\n",
    "\n"
   ]
  }
 ],
 "metadata": {
  "anaconda-cloud": {},
  "kernelspec": {
   "display_name": "Python [conda root]",
   "language": "python",
   "name": "conda-root-py"
  },
  "language_info": {
   "codemirror_mode": {
    "name": "ipython",
    "version": 3
   },
   "file_extension": ".py",
   "mimetype": "text/x-python",
   "name": "python",
   "nbconvert_exporter": "python",
   "pygments_lexer": "ipython3",
   "version": "3.5.2"
  }
 },
 "nbformat": 4,
 "nbformat_minor": 1
}
